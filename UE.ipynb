{
  "nbformat": 4,
  "nbformat_minor": 0,
  "metadata": {
    "colab": {
      "provenance": []
    },
    "kernelspec": {
      "name": "python3",
      "display_name": "Python 3"
    },
    "language_info": {
      "name": "python"
    }
  },
  "cells": [
    {
      "cell_type": "code",
      "execution_count": null,
      "metadata": {
        "colab": {
          "base_uri": "https://localhost:8080/"
        },
        "id": "cudA2C5IK4iY",
        "outputId": "1bf7886a-6dc2-4035-d355-7fe3d46ec408"
      },
      "outputs": [
        {
          "output_type": "stream",
          "name": "stdout",
          "text": [
            "Requirement already satisfied: networkx in /usr/local/lib/python3.11/dist-packages (3.4.2)\n",
            "Requirement already satisfied: numpy in /usr/local/lib/python3.11/dist-packages (2.0.2)\n"
          ]
        }
      ],
      "source": [
        "pip install networkx numpy"
      ]
    },
    {
      "cell_type": "code",
      "source": [
        "import networkx as nx\n",
        "import numpy as np\n",
        "\n",
        "# BPR link performance function\n",
        "def bpr_cost(flow, capacity, free_time, alpha=0.15, beta=4):\n",
        "    return free_time * (1 + alpha * (flow / capacity) ** beta)\n",
        "\n",
        "# Derivative of the BPR function\n",
        "def bpr_derivative(flow, capacity, free_time, alpha=0.15, beta=4):\n",
        "    return free_time * alpha * beta * (flow / capacity) ** (beta - 1) / capacity\n",
        "\n",
        "# Define a sample network (directed graph)\n",
        "def create_network():\n",
        "    G = nx.DiGraph()\n",
        "    # (from, to, capacity, free flow time)\n",
        "    links = [\n",
        "        ('A', 'B', 1000, 1),\n",
        "        ('A', 'C', 1000, 1),\n",
        "        ('B', 'D', 1000, 1),\n",
        "        ('C', 'D', 1000, 1),\n",
        "    ]\n",
        "    for u, v, cap, fft in links:\n",
        "        G.add_edge(u, v, capacity=cap, free_time=fft, flow=0)\n",
        "    return G\n",
        "\n",
        "# Update link costs based on current flow\n",
        "def update_link_costs(G):\n",
        "    for u, v in G.edges:\n",
        "        data = G[u][v]\n",
        "        data['cost'] = bpr_cost(data['flow'], data['capacity'], data['free_time'])\n",
        "\n",
        "# All-or-nothing assignment\n",
        "def all_or_nothing(G, od_pairs):\n",
        "    aux_flow = { (u, v): 0 for u, v in G.edges }\n",
        "    for origin, dest, demand in od_pairs:\n",
        "        path = nx.shortest_path(G, origin, dest, weight='cost')\n",
        "        for i in range(len(path) - 1):\n",
        "            u, v = path[i], path[i+1]\n",
        "            aux_flow[(u, v)] += demand\n",
        "    return aux_flow\n",
        "\n",
        "# Line search (step size)\n",
        "def line_search(G, aux_flow):\n",
        "    numerator, denominator = 0.0, 0.0\n",
        "    for u, v in G.edges:\n",
        "        flow = G[u][v]['flow']\n",
        "        cost = bpr_cost(flow, G[u][v]['capacity'], G[u][v]['free_time'])\n",
        "        derivative = bpr_derivative(flow, G[u][v]['capacity'], G[u][v]['free_time'])\n",
        "\n",
        "        delta = aux_flow[(u, v)] - flow\n",
        "        numerator += cost * delta\n",
        "        denominator += derivative * delta * delta\n",
        "\n",
        "    if denominator == 0:\n",
        "        return 0\n",
        "    return max(0, min(1, numerator / denominator))\n",
        "\n",
        "# Update flow\n",
        "def update_flow(G, aux_flow, step_size):\n",
        "    for u, v in G.edges:\n",
        "        G[u][v]['flow'] += step_size * (aux_flow[(u, v)] - G[u][v]['flow'])\n",
        "\n",
        "# Main Frank-Wolfe algorithm\n",
        "def frank_wolfe(G, od_pairs, max_iter=50, tol=1e-4):\n",
        "    for it in range(max_iter):\n",
        "        update_link_costs(G)\n",
        "        aux_flow = all_or_nothing(G, od_pairs)\n",
        "        step_size = line_search(G, aux_flow)\n",
        "        update_flow(G, aux_flow, step_size)\n",
        "        gap = sum(abs(aux_flow[(u, v)] - G[u][v]['flow']) for u, v in G.edges)\n",
        "        print(f\"Iteration {it+1}, Gap = {gap:.4f}, Step size = {step_size:.4f}\")\n",
        "        if gap < tol:\n",
        "            break\n",
        "\n",
        "# Example usage\n",
        "if __name__ == \"__main__\":\n",
        "    G = create_network()\n",
        "    od_pairs = [('A', 'D', 1000)]\n",
        "    frank_wolfe(G, od_pairs)\n",
        "\n",
        "    print(\"\\nFinal link flows:\")\n",
        "    for u, v in G.edges:\n",
        "        print(f\"{u} -> {v}: Flow = {G[u][v]['flow']:.2f}, Cost = {G[u][v]['cost']:.2f}\")"
      ],
      "metadata": {
        "colab": {
          "base_uri": "https://localhost:8080/"
        },
        "id": "t2G6XD11LDZC",
        "outputId": "58b36df6-22e1-4cd5-d681-93972b27158e"
      },
      "execution_count": null,
      "outputs": [
        {
          "output_type": "stream",
          "name": "stdout",
          "text": [
            "Iteration 1, Gap = 2000.0000, Step size = 0.0000\n",
            "Iteration 2, Gap = 2000.0000, Step size = 0.0000\n",
            "Iteration 3, Gap = 2000.0000, Step size = 0.0000\n",
            "Iteration 4, Gap = 2000.0000, Step size = 0.0000\n",
            "Iteration 5, Gap = 2000.0000, Step size = 0.0000\n",
            "Iteration 6, Gap = 2000.0000, Step size = 0.0000\n",
            "Iteration 7, Gap = 2000.0000, Step size = 0.0000\n",
            "Iteration 8, Gap = 2000.0000, Step size = 0.0000\n",
            "Iteration 9, Gap = 2000.0000, Step size = 0.0000\n",
            "Iteration 10, Gap = 2000.0000, Step size = 0.0000\n",
            "Iteration 11, Gap = 2000.0000, Step size = 0.0000\n",
            "Iteration 12, Gap = 2000.0000, Step size = 0.0000\n",
            "Iteration 13, Gap = 2000.0000, Step size = 0.0000\n",
            "Iteration 14, Gap = 2000.0000, Step size = 0.0000\n",
            "Iteration 15, Gap = 2000.0000, Step size = 0.0000\n",
            "Iteration 16, Gap = 2000.0000, Step size = 0.0000\n",
            "Iteration 17, Gap = 2000.0000, Step size = 0.0000\n",
            "Iteration 18, Gap = 2000.0000, Step size = 0.0000\n",
            "Iteration 19, Gap = 2000.0000, Step size = 0.0000\n",
            "Iteration 20, Gap = 2000.0000, Step size = 0.0000\n",
            "Iteration 21, Gap = 2000.0000, Step size = 0.0000\n",
            "Iteration 22, Gap = 2000.0000, Step size = 0.0000\n",
            "Iteration 23, Gap = 2000.0000, Step size = 0.0000\n",
            "Iteration 24, Gap = 2000.0000, Step size = 0.0000\n",
            "Iteration 25, Gap = 2000.0000, Step size = 0.0000\n",
            "Iteration 26, Gap = 2000.0000, Step size = 0.0000\n",
            "Iteration 27, Gap = 2000.0000, Step size = 0.0000\n",
            "Iteration 28, Gap = 2000.0000, Step size = 0.0000\n",
            "Iteration 29, Gap = 2000.0000, Step size = 0.0000\n",
            "Iteration 30, Gap = 2000.0000, Step size = 0.0000\n",
            "Iteration 31, Gap = 2000.0000, Step size = 0.0000\n",
            "Iteration 32, Gap = 2000.0000, Step size = 0.0000\n",
            "Iteration 33, Gap = 2000.0000, Step size = 0.0000\n",
            "Iteration 34, Gap = 2000.0000, Step size = 0.0000\n",
            "Iteration 35, Gap = 2000.0000, Step size = 0.0000\n",
            "Iteration 36, Gap = 2000.0000, Step size = 0.0000\n",
            "Iteration 37, Gap = 2000.0000, Step size = 0.0000\n",
            "Iteration 38, Gap = 2000.0000, Step size = 0.0000\n",
            "Iteration 39, Gap = 2000.0000, Step size = 0.0000\n",
            "Iteration 40, Gap = 2000.0000, Step size = 0.0000\n",
            "Iteration 41, Gap = 2000.0000, Step size = 0.0000\n",
            "Iteration 42, Gap = 2000.0000, Step size = 0.0000\n",
            "Iteration 43, Gap = 2000.0000, Step size = 0.0000\n",
            "Iteration 44, Gap = 2000.0000, Step size = 0.0000\n",
            "Iteration 45, Gap = 2000.0000, Step size = 0.0000\n",
            "Iteration 46, Gap = 2000.0000, Step size = 0.0000\n",
            "Iteration 47, Gap = 2000.0000, Step size = 0.0000\n",
            "Iteration 48, Gap = 2000.0000, Step size = 0.0000\n",
            "Iteration 49, Gap = 2000.0000, Step size = 0.0000\n",
            "Iteration 50, Gap = 2000.0000, Step size = 0.0000\n",
            "\n",
            "Final link flows:\n",
            "A -> B: Flow = 0.00, Cost = 1.00\n",
            "A -> C: Flow = 0.00, Cost = 1.00\n",
            "B -> D: Flow = 0.00, Cost = 1.00\n",
            "C -> D: Flow = 0.00, Cost = 1.00\n"
          ]
        }
      ]
    },
    {
      "cell_type": "code",
      "source": [],
      "metadata": {
        "id": "QiqMpcb3LMKt"
      },
      "execution_count": null,
      "outputs": []
    }
  ]
}